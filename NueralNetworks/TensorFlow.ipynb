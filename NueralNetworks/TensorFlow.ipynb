{
  "nbformat": 4,
  "nbformat_minor": 0,
  "metadata": {
    "colab": {
      "provenance": []
    },
    "kernelspec": {
      "name": "python3",
      "display_name": "Python 3"
    },
    "language_info": {
      "name": "python"
    }
  },
  "cells": [
    {
      "cell_type": "code",
      "execution_count": null,
      "metadata": {
        "id": "BNRKgLRy1g4i"
      },
      "outputs": [],
      "source": [
        "import numpy as np\n",
        "import tensorflow as tf\n",
        "from tensorflow.keras.models import Sequential\n",
        "from tensorflow.keras.layers import Dense\n",
        "\n",
        "tf.random.set_seed(1234)  # applied to achieve consistent results\n",
        "layer1=Dense(units=3,activation='sigmoid',name=\"layer1\")\n",
        "layer2=Dense(units=1,activation='sigmoid',name=\"layer2\")\n",
        "\n",
        "model=Sequential([layer1,layer2])\n",
        "\n",
        "\n"
      ]
    },
    {
      "cell_type": "code",
      "source": [
        "x=np.array([[200,17],[120,50],[425,20],[212,18]])\n",
        "y=np.array([[1],[0],[0],[1]])\n"
      ],
      "metadata": {
        "id": "3asbfzZN2sMw"
      },
      "execution_count": null,
      "outputs": []
    },
    {
      "cell_type": "code",
      "source": [],
      "metadata": {
        "id": "kUeIHccY6qXT"
      },
      "execution_count": null,
      "outputs": []
    },
    {
      "cell_type": "code",
      "source": [
        "model.compile(loss = tf.keras.losses.BinaryCrossentropy(),\n",
        "    optimizer = tf.keras.optimizers.Adam(learning_rate=0.01),)\n",
        "model.fit(x,y,epochs=10)"
      ],
      "metadata": {
        "colab": {
          "base_uri": "https://localhost:8080/"
        },
        "id": "YtXgDqER4AyK",
        "outputId": "884d4320-234a-49ff-b679-96be271c60c5"
      },
      "execution_count": null,
      "outputs": [
        {
          "output_type": "stream",
          "name": "stdout",
          "text": [
            "Epoch 1/10\n",
            "1/1 [==============================] - 1s 518ms/step - loss: 0.8137\n",
            "Epoch 2/10\n",
            "1/1 [==============================] - 0s 9ms/step - loss: 0.8059\n",
            "Epoch 3/10\n",
            "1/1 [==============================] - 0s 8ms/step - loss: 0.7924\n",
            "Epoch 4/10\n",
            "1/1 [==============================] - 0s 9ms/step - loss: 0.7798\n",
            "Epoch 5/10\n",
            "1/1 [==============================] - 0s 9ms/step - loss: 0.7543\n",
            "Epoch 6/10\n",
            "1/1 [==============================] - 0s 9ms/step - loss: 0.7214\n",
            "Epoch 7/10\n",
            "1/1 [==============================] - 0s 7ms/step - loss: 0.6917\n",
            "Epoch 8/10\n",
            "1/1 [==============================] - 0s 9ms/step - loss: 0.6734\n",
            "Epoch 9/10\n",
            "1/1 [==============================] - 0s 7ms/step - loss: 0.6623\n",
            "Epoch 10/10\n",
            "1/1 [==============================] - 0s 8ms/step - loss: 0.6547\n"
          ]
        },
        {
          "output_type": "execute_result",
          "data": {
            "text/plain": [
              "<keras.src.callbacks.History at 0x7ae42bf4ece0>"
            ]
          },
          "metadata": {},
          "execution_count": 17
        }
      ]
    },
    {
      "cell_type": "code",
      "source": [
        "model.summary()"
      ],
      "metadata": {
        "colab": {
          "base_uri": "https://localhost:8080/"
        },
        "id": "yCFBr7l34MuS",
        "outputId": "e5dfd851-47f4-4e2e-8e21-1e64c98730e9"
      },
      "execution_count": null,
      "outputs": [
        {
          "output_type": "stream",
          "name": "stdout",
          "text": [
            "Model: \"sequential_5\"\n",
            "_________________________________________________________________\n",
            " Layer (type)                Output Shape              Param #   \n",
            "=================================================================\n",
            " layer1 (Dense)              (None, 3)                 9         \n",
            "                                                                 \n",
            " layer2 (Dense)              (None, 1)                 4         \n",
            "                                                                 \n",
            "=================================================================\n",
            "Total params: 13 (52.00 Byte)\n",
            "Trainable params: 13 (52.00 Byte)\n",
            "Non-trainable params: 0 (0.00 Byte)\n",
            "_________________________________________________________________\n"
          ]
        }
      ]
    },
    {
      "cell_type": "code",
      "source": [
        "w1,b1 = model.get_layer(\"layer1\").get_weights()\n",
        "w2,b2 = model.get_layer(\"layer2\").get_weights()\n",
        "print(f\"w1{w1}\\nb1{b1}\\nw2{w2}\\nb2{b2}\")"
      ],
      "metadata": {
        "colab": {
          "base_uri": "https://localhost:8080/"
        },
        "id": "1NQR7dkv5TcY",
        "outputId": "98da8cea-d081-40f4-df49-222baa94389f"
      },
      "execution_count": null,
      "outputs": [
        {
          "output_type": "stream",
          "name": "stdout",
          "text": [
            "w1[[ 0.8520193   0.02380495  0.19609705]\n",
            " [ 0.34204614 -0.09449724 -0.34124395]]\n",
            "b1[ 0.         -0.08488461  0.08898605]\n",
            "w2[[-0.25874984]\n",
            " [ 0.6352708 ]\n",
            " [-0.64182234]]\n",
            "b2[0.10996453]\n"
          ]
        }
      ]
    },
    {
      "cell_type": "code",
      "source": [
        "x_test=np.array([[200,17]])\n",
        "result=model.predict(x_test)\n",
        "result"
      ],
      "metadata": {
        "colab": {
          "base_uri": "https://localhost:8080/"
        },
        "id": "Xrnim0hO6rXU",
        "outputId": "c0ec8a94-341c-4131-fcac-d81e98bad30d"
      },
      "execution_count": null,
      "outputs": [
        {
          "output_type": "stream",
          "name": "stdout",
          "text": [
            "1/1 [==============================] - 0s 19ms/step\n"
          ]
        },
        {
          "output_type": "execute_result",
          "data": {
            "text/plain": [
              "array([[0.45424634]], dtype=float32)"
            ]
          },
          "metadata": {},
          "execution_count": 22
        }
      ]
    },
    {
      "cell_type": "code",
      "source": [
        "layer1=Dense(units=3,activation='sigmoid',name=\"layer1\")\n",
        "\n",
        "a1=layer1(x)\n",
        "a1"
      ],
      "metadata": {
        "colab": {
          "base_uri": "https://localhost:8080/"
        },
        "id": "ikepiKyl9Jaf",
        "outputId": "99f2afc5-fb60-4e6e-b643-5eb5096f2b65"
      },
      "execution_count": null,
      "outputs": [
        {
          "output_type": "execute_result",
          "data": {
            "text/plain": [
              "<tf.Tensor: shape=(4, 3), dtype=float32, numpy=\n",
              "array([[1.4100052e-38, 1.0000000e+00, 3.4163157e-20],\n",
              "       [6.6709672e-25, 1.0000000e+00, 7.5703434e-04],\n",
              "       [0.0000000e+00, 1.0000000e+00, 0.0000000e+00],\n",
              "       [0.0000000e+00, 1.0000000e+00, 2.2975804e-21]], dtype=float32)>"
            ]
          },
          "metadata": {},
          "execution_count": 23
        }
      ]
    },
    {
      "cell_type": "code",
      "source": [
        "layer2=Dense(units=1,activation='sigmoid',name=\"layer2\")\n",
        "a2=layer2(a1)\n",
        "a2.numpy()"
      ],
      "metadata": {
        "colab": {
          "base_uri": "https://localhost:8080/"
        },
        "id": "SpZFsW8c9XzM",
        "outputId": "bc34c4f0-29e2-4753-ac62-69ff5178155d"
      },
      "execution_count": null,
      "outputs": [
        {
          "output_type": "execute_result",
          "data": {
            "text/plain": [
              "array([[0.7337164],\n",
              "       [0.7336812],\n",
              "       [0.7337164],\n",
              "       [0.7337164]], dtype=float32)"
            ]
          },
          "metadata": {},
          "execution_count": 26
        }
      ]
    }
  ]
}